{
 "cells": [
  {
   "cell_type": "markdown",
   "metadata": {},
   "source": [
    "## Setting the environment"
   ]
  },
  {
   "cell_type": "markdown",
   "metadata": {},
   "source": [
    "To calculate over the dataset we used Python environment containing Numpy and Pandas."
   ]
  },
  {
   "cell_type": "code",
   "execution_count": 1,
   "metadata": {},
   "outputs": [],
   "source": [
    "import matplotlib.pyplot as plt\n",
    "plt.style.use('classic')\n",
    "%matplotlib inline\n",
    "import numpy as np\n",
    "import pandas as pd\n",
    "import seaborn as sns\n",
    "sns.set()\n"
   ]
  },
  {
   "cell_type": "markdown",
   "metadata": {},
   "source": [
    "## Input "
   ]
  },
  {
   "cell_type": "code",
   "execution_count": 2,
   "metadata": {},
   "outputs": [],
   "source": [
    "df1 = pd.read_csv(\"13_12-0.csv\")"
   ]
  },
  {
   "cell_type": "code",
   "execution_count": 3,
   "metadata": {},
   "outputs": [
    {
     "data": {
      "text/html": [
       "<div>\n",
       "<style scoped>\n",
       "    .dataframe tbody tr th:only-of-type {\n",
       "        vertical-align: middle;\n",
       "    }\n",
       "\n",
       "    .dataframe tbody tr th {\n",
       "        vertical-align: top;\n",
       "    }\n",
       "\n",
       "    .dataframe thead th {\n",
       "        text-align: right;\n",
       "    }\n",
       "</style>\n",
       "<table border=\"1\" class=\"dataframe\">\n",
       "  <thead>\n",
       "    <tr style=\"text-align: right;\">\n",
       "      <th></th>\n",
       "      <th>asset_id</th>\n",
       "      <th>followers</th>\n",
       "      <th>engagement</th>\n",
       "      <th>day_of_week</th>\n",
       "      <th>hour_of_day</th>\n",
       "      <th>current_views</th>\n",
       "      <th>current_minute</th>\n",
       "      <th>current_comments</th>\n",
       "      <th>current_reactions</th>\n",
       "      <th>platform</th>\n",
       "      <th>asset_type</th>\n",
       "      <th>has_sponsor</th>\n",
       "      <th>category_number</th>\n",
       "      <th>next_minute</th>\n",
       "      <th>next_reactions</th>\n",
       "      <th>next_comments</th>\n",
       "      <th>next_views</th>\n",
       "    </tr>\n",
       "  </thead>\n",
       "  <tbody>\n",
       "    <tr>\n",
       "      <th>0</th>\n",
       "      <td>19779063</td>\n",
       "      <td>3617754</td>\n",
       "      <td>0.2</td>\n",
       "      <td>4</td>\n",
       "      <td>18</td>\n",
       "      <td>17898</td>\n",
       "      <td>18887</td>\n",
       "      <td>29</td>\n",
       "      <td>2988</td>\n",
       "      <td>instagram</td>\n",
       "      <td>Episode</td>\n",
       "      <td>False</td>\n",
       "      <td>14</td>\n",
       "      <td>23090.0</td>\n",
       "      <td>2992.0</td>\n",
       "      <td>29.0</td>\n",
       "      <td>18086.0</td>\n",
       "    </tr>\n",
       "    <tr>\n",
       "      <th>1</th>\n",
       "      <td>19591453</td>\n",
       "      <td>103910</td>\n",
       "      <td>2.0</td>\n",
       "      <td>1</td>\n",
       "      <td>18</td>\n",
       "      <td>0</td>\n",
       "      <td>23208</td>\n",
       "      <td>85</td>\n",
       "      <td>4171</td>\n",
       "      <td>instagram</td>\n",
       "      <td>Image</td>\n",
       "      <td>False</td>\n",
       "      <td>41</td>\n",
       "      <td>28854.0</td>\n",
       "      <td>4171.0</td>\n",
       "      <td>85.0</td>\n",
       "      <td>0.0</td>\n",
       "    </tr>\n",
       "    <tr>\n",
       "      <th>2</th>\n",
       "      <td>18959298</td>\n",
       "      <td>315266</td>\n",
       "      <td>7.3</td>\n",
       "      <td>0</td>\n",
       "      <td>18</td>\n",
       "      <td>0</td>\n",
       "      <td>34727</td>\n",
       "      <td>127</td>\n",
       "      <td>29185</td>\n",
       "      <td>instagram</td>\n",
       "      <td>Image</td>\n",
       "      <td>False</td>\n",
       "      <td>7</td>\n",
       "      <td>41825.0</td>\n",
       "      <td>29192.0</td>\n",
       "      <td>127.0</td>\n",
       "      <td>0.0</td>\n",
       "    </tr>\n",
       "    <tr>\n",
       "      <th>3</th>\n",
       "      <td>18907487</td>\n",
       "      <td>710855</td>\n",
       "      <td>1.0</td>\n",
       "      <td>0</td>\n",
       "      <td>18</td>\n",
       "      <td>0</td>\n",
       "      <td>34728</td>\n",
       "      <td>17</td>\n",
       "      <td>3457</td>\n",
       "      <td>instagram</td>\n",
       "      <td>Image</td>\n",
       "      <td>False</td>\n",
       "      <td>14</td>\n",
       "      <td>41825.0</td>\n",
       "      <td>3462.0</td>\n",
       "      <td>17.0</td>\n",
       "      <td>0.0</td>\n",
       "    </tr>\n",
       "    <tr>\n",
       "      <th>4</th>\n",
       "      <td>19833665</td>\n",
       "      <td>617056</td>\n",
       "      <td>0.1</td>\n",
       "      <td>4</td>\n",
       "      <td>18</td>\n",
       "      <td>1679</td>\n",
       "      <td>18887</td>\n",
       "      <td>3</td>\n",
       "      <td>52</td>\n",
       "      <td>instagram</td>\n",
       "      <td>Episode</td>\n",
       "      <td>False</td>\n",
       "      <td>7</td>\n",
       "      <td>23090.0</td>\n",
       "      <td>52.0</td>\n",
       "      <td>3.0</td>\n",
       "      <td>1679.0</td>\n",
       "    </tr>\n",
       "  </tbody>\n",
       "</table>\n",
       "</div>"
      ],
      "text/plain": [
       "   asset_id  followers  engagement  day_of_week  hour_of_day  current_views  \\\n",
       "0  19779063    3617754         0.2            4           18          17898   \n",
       "1  19591453     103910         2.0            1           18              0   \n",
       "2  18959298     315266         7.3            0           18              0   \n",
       "3  18907487     710855         1.0            0           18              0   \n",
       "4  19833665     617056         0.1            4           18           1679   \n",
       "\n",
       "   current_minute  current_comments  current_reactions   platform asset_type  \\\n",
       "0           18887                29               2988  instagram    Episode   \n",
       "1           23208                85               4171  instagram      Image   \n",
       "2           34727               127              29185  instagram      Image   \n",
       "3           34728                17               3457  instagram      Image   \n",
       "4           18887                 3                 52  instagram    Episode   \n",
       "\n",
       "   has_sponsor  category_number  next_minute  next_reactions  next_comments  \\\n",
       "0        False               14      23090.0          2992.0           29.0   \n",
       "1        False               41      28854.0          4171.0           85.0   \n",
       "2        False                7      41825.0         29192.0          127.0   \n",
       "3        False               14      41825.0          3462.0           17.0   \n",
       "4        False                7      23090.0            52.0            3.0   \n",
       "\n",
       "   next_views  \n",
       "0     18086.0  \n",
       "1         0.0  \n",
       "2         0.0  \n",
       "3         0.0  \n",
       "4      1679.0  "
      ]
     },
     "execution_count": 3,
     "metadata": {},
     "output_type": "execute_result"
    }
   ],
   "source": [
    "df1.head(5)"
   ]
  },
  {
   "cell_type": "code",
   "execution_count": 4,
   "metadata": {},
   "outputs": [
    {
     "data": {
      "text/plain": [
       "(11670920, 17)"
      ]
     },
     "execution_count": 4,
     "metadata": {},
     "output_type": "execute_result"
    }
   ],
   "source": [
    "df1.shape"
   ]
  },
  {
   "cell_type": "code",
   "execution_count": null,
   "metadata": {},
   "outputs": [],
   "source": []
  }
 ],
 "metadata": {
  "kernelspec": {
   "display_name": "Python 3",
   "language": "python",
   "name": "python3"
  },
  "language_info": {
   "codemirror_mode": {
    "name": "ipython",
    "version": 3
   },
   "file_extension": ".py",
   "mimetype": "text/x-python",
   "name": "python",
   "nbconvert_exporter": "python",
   "pygments_lexer": "ipython3",
   "version": "3.4.6"
  }
 },
 "nbformat": 4,
 "nbformat_minor": 2
}
