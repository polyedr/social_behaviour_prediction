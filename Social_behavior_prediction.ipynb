{
 "cells": [
  {
   "cell_type": "markdown",
   "metadata": {},
   "source": [
    "## Input files"
   ]
  },
  {
   "cell_type": "markdown",
   "metadata": {},
   "source": [
    "We received two files, 13_12-0.csv and 13_12-0-assets_tags.csv. 13_12-0.csv was formatted perfectly (the following data was not placed for all rows there), and 13_12-0-assets_tags.csv contained some inconsistencies, which were not critical, in general (some of the rows were broken, and tags were not separated clearly from the post message).\n"
   ]
  },
  {
   "cell_type": "markdown",
   "metadata": {},
   "source": [
    "To calculate over the dataset we used Python environment containing Numpy and Pandas."
   ]
  },
  {
   "cell_type": "code",
   "execution_count": 1,
   "metadata": {},
   "outputs": [],
   "source": [
    "import matplotlib.pyplot as plt\n",
    "plt.style.use('classic')\n",
    "%matplotlib inline\n",
    "import numpy as np\n",
    "import pandas as pd\n",
    "import seaborn as sns\n",
    "sns.set()\n"
   ]
  },
  {
   "cell_type": "markdown",
   "metadata": {},
   "source": [
    "## Operations with input files:"
   ]
  },
  {
   "cell_type": "markdown",
   "metadata": {},
   "source": [
    "13_12-0-assets_tags.csv was cleared and both of these files were upload to Pandas. Further actions were performed on 13_12-0.csv only\n"
   ]
  },
  {
   "cell_type": "markdown",
   "metadata": {},
   "source": [
    "## Data studying:\n"
   ]
  },
  {
   "cell_type": "code",
   "execution_count": 2,
   "metadata": {},
   "outputs": [],
   "source": [
    "df1 = pd.read_csv(\"13_12-0top5000.csv\")"
   ]
  },
  {
   "cell_type": "code",
   "execution_count": 3,
   "metadata": {},
   "outputs": [
    {
     "data": {
      "text/html": [
       "<div>\n",
       "<style scoped>\n",
       "    .dataframe tbody tr th:only-of-type {\n",
       "        vertical-align: middle;\n",
       "    }\n",
       "\n",
       "    .dataframe tbody tr th {\n",
       "        vertical-align: top;\n",
       "    }\n",
       "\n",
       "    .dataframe thead th {\n",
       "        text-align: right;\n",
       "    }\n",
       "</style>\n",
       "<table border=\"1\" class=\"dataframe\">\n",
       "  <thead>\n",
       "    <tr style=\"text-align: right;\">\n",
       "      <th></th>\n",
       "      <th>asset_id</th>\n",
       "      <th>followers</th>\n",
       "      <th>engagement</th>\n",
       "      <th>day_of_week</th>\n",
       "      <th>hour_of_day</th>\n",
       "      <th>current_views</th>\n",
       "      <th>current_minute</th>\n",
       "      <th>current_comments</th>\n",
       "      <th>current_reactions</th>\n",
       "      <th>platform</th>\n",
       "      <th>asset_type</th>\n",
       "      <th>has_sponsor</th>\n",
       "      <th>category_number</th>\n",
       "      <th>next_minute</th>\n",
       "      <th>next_reactions</th>\n",
       "      <th>next_comments</th>\n",
       "      <th>next_views</th>\n",
       "    </tr>\n",
       "  </thead>\n",
       "  <tbody>\n",
       "    <tr>\n",
       "      <th>0</th>\n",
       "      <td>19779063</td>\n",
       "      <td>3617754</td>\n",
       "      <td>0.2</td>\n",
       "      <td>4</td>\n",
       "      <td>18</td>\n",
       "      <td>17898</td>\n",
       "      <td>18887</td>\n",
       "      <td>29</td>\n",
       "      <td>2988</td>\n",
       "      <td>instagram</td>\n",
       "      <td>Episode</td>\n",
       "      <td>False</td>\n",
       "      <td>14</td>\n",
       "      <td>23090.0</td>\n",
       "      <td>2992.0</td>\n",
       "      <td>29.0</td>\n",
       "      <td>18086.0</td>\n",
       "    </tr>\n",
       "    <tr>\n",
       "      <th>1</th>\n",
       "      <td>19591453</td>\n",
       "      <td>103910</td>\n",
       "      <td>2.0</td>\n",
       "      <td>1</td>\n",
       "      <td>18</td>\n",
       "      <td>0</td>\n",
       "      <td>23208</td>\n",
       "      <td>85</td>\n",
       "      <td>4171</td>\n",
       "      <td>instagram</td>\n",
       "      <td>Image</td>\n",
       "      <td>False</td>\n",
       "      <td>41</td>\n",
       "      <td>28854.0</td>\n",
       "      <td>4171.0</td>\n",
       "      <td>85.0</td>\n",
       "      <td>0.0</td>\n",
       "    </tr>\n",
       "    <tr>\n",
       "      <th>2</th>\n",
       "      <td>18959298</td>\n",
       "      <td>315266</td>\n",
       "      <td>7.3</td>\n",
       "      <td>0</td>\n",
       "      <td>18</td>\n",
       "      <td>0</td>\n",
       "      <td>34727</td>\n",
       "      <td>127</td>\n",
       "      <td>29185</td>\n",
       "      <td>instagram</td>\n",
       "      <td>Image</td>\n",
       "      <td>False</td>\n",
       "      <td>7</td>\n",
       "      <td>41825.0</td>\n",
       "      <td>29192.0</td>\n",
       "      <td>127.0</td>\n",
       "      <td>0.0</td>\n",
       "    </tr>\n",
       "    <tr>\n",
       "      <th>3</th>\n",
       "      <td>18907487</td>\n",
       "      <td>710855</td>\n",
       "      <td>1.0</td>\n",
       "      <td>0</td>\n",
       "      <td>18</td>\n",
       "      <td>0</td>\n",
       "      <td>34728</td>\n",
       "      <td>17</td>\n",
       "      <td>3457</td>\n",
       "      <td>instagram</td>\n",
       "      <td>Image</td>\n",
       "      <td>False</td>\n",
       "      <td>14</td>\n",
       "      <td>41825.0</td>\n",
       "      <td>3462.0</td>\n",
       "      <td>17.0</td>\n",
       "      <td>0.0</td>\n",
       "    </tr>\n",
       "    <tr>\n",
       "      <th>4</th>\n",
       "      <td>19833665</td>\n",
       "      <td>617056</td>\n",
       "      <td>0.1</td>\n",
       "      <td>4</td>\n",
       "      <td>18</td>\n",
       "      <td>1679</td>\n",
       "      <td>18887</td>\n",
       "      <td>3</td>\n",
       "      <td>52</td>\n",
       "      <td>instagram</td>\n",
       "      <td>Episode</td>\n",
       "      <td>False</td>\n",
       "      <td>7</td>\n",
       "      <td>23090.0</td>\n",
       "      <td>52.0</td>\n",
       "      <td>3.0</td>\n",
       "      <td>1679.0</td>\n",
       "    </tr>\n",
       "  </tbody>\n",
       "</table>\n",
       "</div>"
      ],
      "text/plain": [
       "   asset_id  followers  engagement  day_of_week  hour_of_day  current_views  \\\n",
       "0  19779063    3617754         0.2            4           18          17898   \n",
       "1  19591453     103910         2.0            1           18              0   \n",
       "2  18959298     315266         7.3            0           18              0   \n",
       "3  18907487     710855         1.0            0           18              0   \n",
       "4  19833665     617056         0.1            4           18           1679   \n",
       "\n",
       "   current_minute  current_comments  current_reactions   platform asset_type  \\\n",
       "0           18887                29               2988  instagram    Episode   \n",
       "1           23208                85               4171  instagram      Image   \n",
       "2           34727               127              29185  instagram      Image   \n",
       "3           34728                17               3457  instagram      Image   \n",
       "4           18887                 3                 52  instagram    Episode   \n",
       "\n",
       "   has_sponsor  category_number  next_minute  next_reactions  next_comments  \\\n",
       "0        False               14      23090.0          2992.0           29.0   \n",
       "1        False               41      28854.0          4171.0           85.0   \n",
       "2        False                7      41825.0         29192.0          127.0   \n",
       "3        False               14      41825.0          3462.0           17.0   \n",
       "4        False                7      23090.0            52.0            3.0   \n",
       "\n",
       "   next_views  \n",
       "0     18086.0  \n",
       "1         0.0  \n",
       "2         0.0  \n",
       "3         0.0  \n",
       "4      1679.0  "
      ]
     },
     "execution_count": 3,
     "metadata": {},
     "output_type": "execute_result"
    }
   ],
   "source": [
    "df1.head(5)"
   ]
  },
  {
   "cell_type": "markdown",
   "metadata": {},
   "source": [
    "Data received contains 16 columns. For some of them names were changed in comparison with previous discussion (see the list below).\n",
    "    asset_id, post_id - the post ID\n",
    "    followers,  - number of followers of the channel\n",
    "    engagement, - engagement for the channel in the specific sample time\n",
    "    day_of_week, - Day of week of the publish time of the post\n",
    "    hour_of_day,  - Hours of the publish time of the post\n",
    "    current_views, - Current sample views (if asset_type == video)\n",
    "    current_minute, - Current sample post age (in minutes)\n",
    "    current_comments, - Current sample comments\n",
    "    current_reactions, - Current sample reactions\n",
    "    platform, - Instagram / Facebook / Twitter\n",
    "    asset_type, - Video / Image\n",
    "    has_sponsor, - true or false\n",
    "    category_number, - numeric category of the channel\n",
    "    next_minute, - The next future post age (in minutes)\n",
    "    next_reactions, - The next future sample reactions\n",
    "    next_comments,\n",
    "    next_views\n",
    "The data doesn't contain timestamp. Based on this, time series analysis is not a case. We've checked them for ability to calculate regression method to predict \"next\" variables.\n",
    "If the customer will provide timestamps (year, month, day, hour, minute), time series would be possible. \n"
   ]
  },
  {
   "cell_type": "markdown",
   "metadata": {},
   "source": [
    "## Features:\n"
   ]
  },
  {
   "cell_type": "markdown",
   "metadata": {},
   "source": [
    "These data were obtained mostly from Instagram platform"
   ]
  },
  {
   "cell_type": "markdown",
   "metadata": {},
   "source": [
    "instagram    9960489\n",
    "\n",
    "facebook     1206114\n",
    "\n",
    "twitter       504317\n",
    "Some other features we described in the attached file value_counts.txt"
   ]
  },
  {
   "cell_type": "markdown",
   "metadata": {},
   "source": [
    "## Deltas:\n"
   ]
  },
  {
   "cell_type": "markdown",
   "metadata": {},
   "source": [
    "We've calculated difference between next and current parameters and called that deltas. "
   ]
  },
  {
   "cell_type": "code",
   "execution_count": 5,
   "metadata": {},
   "outputs": [],
   "source": [
    "dfdelta = pd.read_csv(\"13_12-0deltas.csv\")"
   ]
  },
  {
   "cell_type": "code",
   "execution_count": 6,
   "metadata": {},
   "outputs": [
    {
     "data": {
      "text/html": [
       "<div>\n",
       "<style scoped>\n",
       "    .dataframe tbody tr th:only-of-type {\n",
       "        vertical-align: middle;\n",
       "    }\n",
       "\n",
       "    .dataframe tbody tr th {\n",
       "        vertical-align: top;\n",
       "    }\n",
       "\n",
       "    .dataframe thead th {\n",
       "        text-align: right;\n",
       "    }\n",
       "</style>\n",
       "<table border=\"1\" class=\"dataframe\">\n",
       "  <thead>\n",
       "    <tr style=\"text-align: right;\">\n",
       "      <th></th>\n",
       "      <th>asset_id</th>\n",
       "      <th>delta_minute</th>\n",
       "      <th>delta_reactions</th>\n",
       "      <th>delta_comments</th>\n",
       "      <th>delta_views</th>\n",
       "    </tr>\n",
       "  </thead>\n",
       "  <tbody>\n",
       "    <tr>\n",
       "      <th>0</th>\n",
       "      <td>19779063</td>\n",
       "      <td>4203.0</td>\n",
       "      <td>4.0</td>\n",
       "      <td>0.0</td>\n",
       "      <td>188.0</td>\n",
       "    </tr>\n",
       "    <tr>\n",
       "      <th>1</th>\n",
       "      <td>19591453</td>\n",
       "      <td>5646.0</td>\n",
       "      <td>0.0</td>\n",
       "      <td>0.0</td>\n",
       "      <td>0.0</td>\n",
       "    </tr>\n",
       "    <tr>\n",
       "      <th>2</th>\n",
       "      <td>18959298</td>\n",
       "      <td>7098.0</td>\n",
       "      <td>7.0</td>\n",
       "      <td>0.0</td>\n",
       "      <td>0.0</td>\n",
       "    </tr>\n",
       "    <tr>\n",
       "      <th>3</th>\n",
       "      <td>18907487</td>\n",
       "      <td>7097.0</td>\n",
       "      <td>5.0</td>\n",
       "      <td>0.0</td>\n",
       "      <td>0.0</td>\n",
       "    </tr>\n",
       "    <tr>\n",
       "      <th>4</th>\n",
       "      <td>19833665</td>\n",
       "      <td>4203.0</td>\n",
       "      <td>0.0</td>\n",
       "      <td>0.0</td>\n",
       "      <td>0.0</td>\n",
       "    </tr>\n",
       "  </tbody>\n",
       "</table>\n",
       "</div>"
      ],
      "text/plain": [
       "   asset_id  delta_minute  delta_reactions  delta_comments  delta_views\n",
       "0  19779063        4203.0              4.0             0.0        188.0\n",
       "1  19591453        5646.0              0.0             0.0          0.0\n",
       "2  18959298        7098.0              7.0             0.0          0.0\n",
       "3  18907487        7097.0              5.0             0.0          0.0\n",
       "4  19833665        4203.0              0.0             0.0          0.0"
      ]
     },
     "execution_count": 6,
     "metadata": {},
     "output_type": "execute_result"
    }
   ],
   "source": [
    "dfdelta.head(5)"
   ]
  },
  {
   "cell_type": "markdown",
   "metadata": {},
   "source": [
    "For deltas, we calculated basic statistical parameters."
   ]
  },
  {
   "cell_type": "code",
   "execution_count": 7,
   "metadata": {},
   "outputs": [
    {
     "data": {
      "text/html": [
       "<div>\n",
       "<style scoped>\n",
       "    .dataframe tbody tr th:only-of-type {\n",
       "        vertical-align: middle;\n",
       "    }\n",
       "\n",
       "    .dataframe tbody tr th {\n",
       "        vertical-align: top;\n",
       "    }\n",
       "\n",
       "    .dataframe thead th {\n",
       "        text-align: right;\n",
       "    }\n",
       "</style>\n",
       "<table border=\"1\" class=\"dataframe\">\n",
       "  <thead>\n",
       "    <tr style=\"text-align: right;\">\n",
       "      <th></th>\n",
       "      <th>asset_id</th>\n",
       "      <th>delta_minute</th>\n",
       "      <th>delta_reactions</th>\n",
       "      <th>delta_comments</th>\n",
       "      <th>delta_views</th>\n",
       "    </tr>\n",
       "  </thead>\n",
       "  <tbody>\n",
       "    <tr>\n",
       "      <th>count</th>\n",
       "      <td>8.474077e+06</td>\n",
       "      <td>7.692036e+06</td>\n",
       "      <td>7.692036e+06</td>\n",
       "      <td>7.692036e+06</td>\n",
       "      <td>7.692036e+06</td>\n",
       "    </tr>\n",
       "    <tr>\n",
       "      <th>mean</th>\n",
       "      <td>2.046156e+07</td>\n",
       "      <td>3.508483e+03</td>\n",
       "      <td>4.175069e+02</td>\n",
       "      <td>7.076477e+00</td>\n",
       "      <td>2.020391e+03</td>\n",
       "    </tr>\n",
       "    <tr>\n",
       "      <th>std</th>\n",
       "      <td>7.613700e+05</td>\n",
       "      <td>2.192732e+03</td>\n",
       "      <td>7.138812e+03</td>\n",
       "      <td>1.926608e+02</td>\n",
       "      <td>3.480977e+04</td>\n",
       "    </tr>\n",
       "    <tr>\n",
       "      <th>min</th>\n",
       "      <td>1.959960e+05</td>\n",
       "      <td>0.000000e+00</td>\n",
       "      <td>-4.296010e+05</td>\n",
       "      <td>-3.052200e+04</td>\n",
       "      <td>-7.465160e+05</td>\n",
       "    </tr>\n",
       "    <tr>\n",
       "      <th>25%</th>\n",
       "      <td>1.992062e+07</td>\n",
       "      <td>1.438000e+03</td>\n",
       "      <td>0.000000e+00</td>\n",
       "      <td>0.000000e+00</td>\n",
       "      <td>0.000000e+00</td>\n",
       "    </tr>\n",
       "    <tr>\n",
       "      <th>50%</th>\n",
       "      <td>2.061625e+07</td>\n",
       "      <td>4.273000e+03</td>\n",
       "      <td>5.000000e+00</td>\n",
       "      <td>0.000000e+00</td>\n",
       "      <td>0.000000e+00</td>\n",
       "    </tr>\n",
       "    <tr>\n",
       "      <th>75%</th>\n",
       "      <td>2.104681e+07</td>\n",
       "      <td>5.693000e+03</td>\n",
       "      <td>4.400000e+01</td>\n",
       "      <td>1.000000e+00</td>\n",
       "      <td>4.000000e+00</td>\n",
       "    </tr>\n",
       "    <tr>\n",
       "      <th>max</th>\n",
       "      <td>2.184877e+07</td>\n",
       "      <td>1.776200e+04</td>\n",
       "      <td>4.368429e+06</td>\n",
       "      <td>1.479740e+05</td>\n",
       "      <td>1.914525e+07</td>\n",
       "    </tr>\n",
       "  </tbody>\n",
       "</table>\n",
       "</div>"
      ],
      "text/plain": [
       "           asset_id  delta_minute  delta_reactions  delta_comments  \\\n",
       "count  8.474077e+06  7.692036e+06     7.692036e+06    7.692036e+06   \n",
       "mean   2.046156e+07  3.508483e+03     4.175069e+02    7.076477e+00   \n",
       "std    7.613700e+05  2.192732e+03     7.138812e+03    1.926608e+02   \n",
       "min    1.959960e+05  0.000000e+00    -4.296010e+05   -3.052200e+04   \n",
       "25%    1.992062e+07  1.438000e+03     0.000000e+00    0.000000e+00   \n",
       "50%    2.061625e+07  4.273000e+03     5.000000e+00    0.000000e+00   \n",
       "75%    2.104681e+07  5.693000e+03     4.400000e+01    1.000000e+00   \n",
       "max    2.184877e+07  1.776200e+04     4.368429e+06    1.479740e+05   \n",
       "\n",
       "        delta_views  \n",
       "count  7.692036e+06  \n",
       "mean   2.020391e+03  \n",
       "std    3.480977e+04  \n",
       "min   -7.465160e+05  \n",
       "25%    0.000000e+00  \n",
       "50%    0.000000e+00  \n",
       "75%    4.000000e+00  \n",
       "max    1.914525e+07  "
      ]
     },
     "execution_count": 7,
     "metadata": {},
     "output_type": "execute_result"
    }
   ],
   "source": [
    "dfdelta.describe()"
   ]
  },
  {
   "cell_type": "markdown",
   "metadata": {},
   "source": [
    "For deltas we've calculated scatter plots to observe dependencies between columns."
   ]
  },
  {
   "cell_type": "markdown",
   "metadata": {},
   "source": [
    "Comments and views scatter plot, comments and views as deltas.\n",
    "Limits: comments > 0, 100000 > views > 0"
   ]
  },
  {
   "cell_type": "markdown",
   "metadata": {},
   "source": [
    "1000 dots were obtained from dataset in random:"
   ]
  },
  {
   "cell_type": "code",
   "execution_count": 10,
   "metadata": {},
   "outputs": [
    {
     "data": {
      "image/png": "[encoded data removed]",
      "text/plain": [
       "<matplotlib.figure.Figure at 0x7fe0572d8208>"
      ]
     },
     "metadata": {},
     "output_type": "display_data"
    }
   ],
   "source": [
    "dfdelta_filtered = dfdelta.query('delta_comments>0')\n",
    "dfdelta_filtered = dfdelta.query('100000>delta_views>0')\n",
    "dfdelta_filtered[dfdelta_filtered[\"delta_comments\"]>0].head(1000).plot.scatter(x = 'delta_views', y = 'delta_reactions')\n",
    "plt.show()\n"
   ]
  },
  {
   "cell_type": "markdown",
   "metadata": {},
   "source": [
    "100 dots were obtained from dataset in random:"
   ]
  },
  {
   "cell_type": "code",
   "execution_count": 11,
   "metadata": {},
   "outputs": [
    {
     "data": {
      "image/png": "[encoded data removed]",
      "text/plain": [
       "<matplotlib.figure.Figure at 0x7fe04f0a4da0>"
      ]
     },
     "metadata": {},
     "output_type": "display_data"
    }
   ],
   "source": [
    "dfdelta_filtered[dfdelta_filtered[\"delta_comments\"]>0].head(100).plot.scatter(x = 'delta_views', y = 'delta_reactions')\n",
    "plt.show()"
   ]
  },
  {
   "cell_type": "markdown",
   "metadata": {},
   "source": [
    "Minutes and views scatter plot, minutes and views as deltas.\n",
    "Minutes are discrete.\n",
    "Limits: minutes > 0, 100000 > views > 0\n",
    "\n",
    "1000 dots were obtained from dataset in random:"
   ]
  },
  {
   "cell_type": "code",
   "execution_count": 15,
   "metadata": {},
   "outputs": [
    {
     "data": {
      "image/png": "[encoded data removed]",
      "text/plain": [
       "<matplotlib.figure.Figure at 0x7fe04af6ce10>"
      ]
     },
     "metadata": {},
     "output_type": "display_data"
    }
   ],
   "source": [
    "dfdelta_filtered = dfdelta.query('8000>delta_minute>0')\n",
    "dfdelta_filtered.head(1000).plot.scatter(x = 'delta_views', y = 'delta_minute')\n",
    "plt.show()"
   ]
  },
  {
   "cell_type": "markdown",
   "metadata": {},
   "source": [
    "Comments and views scatter plot, comments and views as deltas.\n",
    "Limits: comments > 0, 100000 > views > 0\n",
    "\n",
    "1000 dots were obtained from dataset in random:"
   ]
  },
  {
   "cell_type": "code",
   "execution_count": 17,
   "metadata": {},
   "outputs": [
    {
     "data": {
      "image/png": "[encoded data removed]",
      "text/plain": [
       "<matplotlib.figure.Figure at 0x7fe039ab8470>"
      ]
     },
     "metadata": {},
     "output_type": "display_data"
    }
   ],
   "source": [
    "dfdelta_filtered = dfdelta.query('delta_reactions>0')\n",
    "dfdelta_filtered = dfdelta.query('100000>delta_views>0')\n",
    "dfdelta_filtered[dfdelta_filtered[\"delta_reactions\"]>0].head(1000).plot.scatter(x = 'delta_views', y = 'delta_reactions')\n",
    "plt.show()"
   ]
  },
  {
   "cell_type": "markdown",
   "metadata": {},
   "source": [
    "100 dots were obtained from dataset in random"
   ]
  },
  {
   "cell_type": "code",
   "execution_count": 18,
   "metadata": {},
   "outputs": [
    {
     "data": {
      "image/png": "[encoded data removed]",
      "text/plain": [
       "<matplotlib.figure.Figure at 0x7fe039af1390>"
      ]
     },
     "metadata": {},
     "output_type": "display_data"
    }
   ],
   "source": [
    "dfdelta_filtered = dfdelta.query('delta_reactions>0')\n",
    "dfdelta_filtered = dfdelta.query('100000>delta_views>0')\n",
    "dfdelta_filtered[dfdelta_filtered[\"delta_reactions\"]>0].head(100).plot.scatter(x = 'delta_views', y = 'delta_reactions')\n",
    "plt.show()"
   ]
  },
  {
   "cell_type": "markdown",
   "metadata": {},
   "source": [
    "Based on these plots, for the pair views/reactions, some link exists but not intense. At this time the data looks not redundant."
   ]
  },
  {
   "cell_type": "markdown",
   "metadata": {},
   "source": [
    "## Data dependencies unravel:\n"
   ]
  },
  {
   "cell_type": "markdown",
   "metadata": {},
   "source": [
    "We've built scatter plots for some columns in the main file. "
   ]
  },
  {
   "cell_type": "markdown",
   "metadata": {},
   "source": [
    "We've built scatter plots for some columns in the main file. You can find these plots in folder plots/mainfile of the archive. It looks like hour 18 of the day has the great impact, and delta views depends on category. Maybe engagement delta and views are dependent, too."
   ]
  },
  {
   "cell_type": "markdown",
   "metadata": {},
   "source": [
    "## Conclusion:\n"
   ]
  },
  {
   "cell_type": "markdown",
   "metadata": {},
   "source": [
    "That's possible to move further with this data and build prediction model, even without assets the data looks interesting enough. Scatter plots show possible dependencies between data and targets, at least for the next_views target column. We can build statistical model for prediction in approximately 80-90 hours. \n",
    "\n",
    "We made inspection, ranking, and scatter plots. Scatter plot shows that there is some relationship between the data available and the data predicted. The predicted accuracy is not very clear, for now it can be assumed that such a prediction can be constructed, and this accuracy will be sufficient. With considerable probability, at least one ‘next’ variable accuracy will be >60% after the additional data grouping. Accuracy could be estimated after building a trial regression, this will take some extra time, about 10 hours. \n"
   ]
  },
  {
   "cell_type": "code",
   "execution_count": null,
   "metadata": {},
   "outputs": [],
   "source": []
  }
 ],
 "metadata": {
  "kernelspec": {
   "display_name": "Python 3",
   "language": "python",
   "name": "python3"
  },
  "language_info": {
   "codemirror_mode": {
    "name": "ipython",
    "version": 3
   },
   "file_extension": ".py",
   "mimetype": "text/x-python",
   "name": "python",
   "nbconvert_exporter": "python",
   "pygments_lexer": "ipython3",
   "version": "3.4.6"
  }
 },
 "nbformat": 4,
 "nbformat_minor": 2
}
